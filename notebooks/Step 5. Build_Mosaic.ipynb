{
 "cells": [
  {
   "cell_type": "markdown",
   "metadata": {},
   "source": [
    "## Import Library"
   ]
  },
  {
   "cell_type": "code",
   "execution_count": 1,
   "metadata": {},
   "outputs": [
    {
     "name": "stdout",
     "output_type": "stream",
     "text": [
      "D:\\USDA\\land_cover_mapping_deep_learning\\notebooks\\U_Net_USDA\n"
     ]
    }
   ],
   "source": [
    "import arcpy\n",
    "import glob\n",
    "import argparse\n",
    "import os"
   ]
  },
  {
   "cell_type": "markdown",
   "metadata": {},
   "source": [
    "## Folder of Images"
   ]
  },
  {
   "cell_type": "code",
   "execution_count": 3,
   "metadata": {},
   "outputs": [
    {
     "name": "stdout",
     "output_type": "stream",
     "text": [
      "D:\\USDA\\land_cover_mapping_deep_learning\\results\\simulated\n",
      "D:\\USDA\\land_cover_mapping_deep_learning\\results\\simulated\\Geneva_run_04\n"
     ]
    }
   ],
   "source": [
    "print(os.getcwd())\n",
    "os.chdir(r'D:\\land_cover\\data\\results')\n",
    "print(os.getcwd())"
   ]
  },
  {
   "cell_type": "code",
   "execution_count": 4,
   "metadata": {},
   "outputs": [],
   "source": [
    "input_image_dir = r'D:\\land_cover\\data\\results\\*'"
   ]
  },
  {
   "cell_type": "code",
   "execution_count": 5,
   "metadata": {},
   "outputs": [
    {
     "name": "stdout",
     "output_type": "stream",
     "text": [
      "D:/USDA/land_cover_mapping_deep_learning/results/simulated/Geneva_run_04\\Geneva_AL__Geneva0.tif\n",
      "D:/USDA/land_cover_mapping_deep_learning/results/simulated/Geneva_run_04\\Geneva_AL__Geneva1.tif\n",
      "D:/USDA/land_cover_mapping_deep_learning/results/simulated/Geneva_run_04\\Geneva_AL__Geneva10.tif\n",
      "D:/USDA/land_cover_mapping_deep_learning/results/simulated/Geneva_run_04\\Geneva_AL__Geneva11.tif\n",
      "D:/USDA/land_cover_mapping_deep_learning/results/simulated/Geneva_run_04\\Geneva_AL__Geneva12.tif\n",
      "D:/USDA/land_cover_mapping_deep_learning/results/simulated/Geneva_run_04\\Geneva_AL__Geneva13.tif\n",
      "D:/USDA/land_cover_mapping_deep_learning/results/simulated/Geneva_run_04\\Geneva_AL__Geneva14.tif\n",
      "D:/USDA/land_cover_mapping_deep_learning/results/simulated/Geneva_run_04\\Geneva_AL__Geneva15.tif\n",
      "D:/USDA/land_cover_mapping_deep_learning/results/simulated/Geneva_run_04\\Geneva_AL__Geneva16.tif\n",
      "D:/USDA/land_cover_mapping_deep_learning/results/simulated/Geneva_run_04\\Geneva_AL__Geneva17.tif\n",
      "D:/USDA/land_cover_mapping_deep_learning/results/simulated/Geneva_run_04\\Geneva_AL__Geneva18.tif\n",
      "D:/USDA/land_cover_mapping_deep_learning/results/simulated/Geneva_run_04\\Geneva_AL__Geneva19.tif\n",
      "D:/USDA/land_cover_mapping_deep_learning/results/simulated/Geneva_run_04\\Geneva_AL__Geneva2.tif\n",
      "D:/USDA/land_cover_mapping_deep_learning/results/simulated/Geneva_run_04\\Geneva_AL__Geneva20.tif\n",
      "D:/USDA/land_cover_mapping_deep_learning/results/simulated/Geneva_run_04\\Geneva_AL__Geneva21.tif\n",
      "D:/USDA/land_cover_mapping_deep_learning/results/simulated/Geneva_run_04\\Geneva_AL__Geneva22.tif\n",
      "D:/USDA/land_cover_mapping_deep_learning/results/simulated/Geneva_run_04\\Geneva_AL__Geneva23.tif\n",
      "D:/USDA/land_cover_mapping_deep_learning/results/simulated/Geneva_run_04\\Geneva_AL__Geneva3.tif\n",
      "D:/USDA/land_cover_mapping_deep_learning/results/simulated/Geneva_run_04\\Geneva_AL__Geneva4.tif\n",
      "D:/USDA/land_cover_mapping_deep_learning/results/simulated/Geneva_run_04\\Geneva_AL__Geneva5.tif\n",
      "D:/USDA/land_cover_mapping_deep_learning/results/simulated/Geneva_run_04\\Geneva_AL__Geneva6.tif\n",
      "D:/USDA/land_cover_mapping_deep_learning/results/simulated/Geneva_run_04\\Geneva_AL__Geneva7.tif\n",
      "D:/USDA/land_cover_mapping_deep_learning/results/simulated/Geneva_run_04\\Geneva_AL__Geneva8.tif\n",
      "D:/USDA/land_cover_mapping_deep_learning/results/simulated/Geneva_run_04\\Geneva_AL__Geneva9.tif\n"
     ]
    }
   ],
   "source": [
    "for name in glob.glob(input_image_dir):\n",
    "    print(name)"
   ]
  },
  {
   "cell_type": "markdown",
   "metadata": {},
   "source": [
    "## Create Raster Dataset"
   ]
  },
  {
   "cell_type": "code",
   "execution_count": 6,
   "metadata": {},
   "outputs": [],
   "source": [
    "input_image_dir = r'D:\\USDA\\land_cover_mapping_deep_learning\\results\\simulated\\Geneva_run_04'"
   ]
  },
  {
   "cell_type": "code",
   "execution_count": 7,
   "metadata": {},
   "outputs": [],
   "source": [
    "image_names = []"
   ]
  },
  {
   "cell_type": "code",
   "execution_count": 8,
   "metadata": {},
   "outputs": [
    {
     "name": "stdout",
     "output_type": "stream",
     "text": [
      "['Geneva_AL__Geneva0.tif', 'Geneva_AL__Geneva1.tif', 'Geneva_AL__Geneva10.tif', 'Geneva_AL__Geneva11.tif', 'Geneva_AL__Geneva12.tif', 'Geneva_AL__Geneva13.tif', 'Geneva_AL__Geneva14.tif', 'Geneva_AL__Geneva15.tif', 'Geneva_AL__Geneva16.tif', 'Geneva_AL__Geneva17.tif', 'Geneva_AL__Geneva18.tif', 'Geneva_AL__Geneva19.tif', 'Geneva_AL__Geneva2.tif', 'Geneva_AL__Geneva20.tif', 'Geneva_AL__Geneva21.tif', 'Geneva_AL__Geneva22.tif', 'Geneva_AL__Geneva23.tif', 'Geneva_AL__Geneva3.tif', 'Geneva_AL__Geneva4.tif', 'Geneva_AL__Geneva5.tif', 'Geneva_AL__Geneva6.tif', 'Geneva_AL__Geneva7.tif', 'Geneva_AL__Geneva8.tif', 'Geneva_AL__Geneva9.tif']\n"
     ]
    }
   ],
   "source": [
    "for images in os.listdir(input_image_dir):\n",
    "    if images.endswith(\".tif\"):\n",
    "        image_names.append(images)\n",
    "print(image_names)"
   ]
  },
  {
   "cell_type": "code",
   "execution_count": 9,
   "metadata": {},
   "outputs": [
    {
     "data": {
      "text/plain": [
       "<Result 'D:\\\\USDA\\\\land_cover_mapping_deep_learning\\\\results\\\\simulated\\\\Geneva_run_04\\\\mosaic_simulated.tif'>"
      ]
     },
     "execution_count": 9,
     "metadata": {},
     "output_type": "execute_result"
    }
   ],
   "source": [
    "arcpy.management.CreateRasterDataset(input_image_dir, 'mosaic_simulated.tif',\n",
    "    cellsize = 1.0, pixel_type = '8_BIT_UNSIGNED',\n",
    "    raster_spatial_reference = arcpy.SpatialReference(26916), number_of_bands = 1)"
   ]
  },
  {
   "cell_type": "markdown",
   "metadata": {},
   "source": [
    "## Mosaic Raster"
   ]
  },
  {
   "cell_type": "code",
   "execution_count": 10,
   "metadata": {},
   "outputs": [
    {
     "data": {
      "text/plain": [
       "<Result 'mosaic_simulated.tif'>"
      ]
     },
     "execution_count": 10,
     "metadata": {},
     "output_type": "execute_result"
    }
   ],
   "source": [
    "arcpy.management.Mosaic(\";\".join(image_names), 'mosaic_simulated.tif', nodata_value = 255)"
   ]
  },
  {
   "cell_type": "markdown",
   "metadata": {},
   "source": [
    "## Build Mosaic Geneva"
   ]
  },
  {
   "cell_type": "code",
   "execution_count": 10,
   "metadata": {},
   "outputs": [
    {
     "name": "stdout",
     "output_type": "stream",
     "text": [
      "D:\\USDA\\land_cover_mapping_deep_learning\\results\\simulated\n",
      "D:\\USDA\\land_cover_mapping_deep_learning\\results\\NAIP_Geneva\n"
     ]
    }
   ],
   "source": [
    "print(os.getcwd())\n",
    "os.chdir(\"D:/USDA/land_cover_mapping_deep_learning/results/NAIP_Geneva/\")\n",
    "print(os.getcwd())"
   ]
  },
  {
   "cell_type": "code",
   "execution_count": 11,
   "metadata": {},
   "outputs": [],
   "source": [
    "input_image_dir = r'D:\\USDA\\land_cover_mapping_deep_learning\\results\\NAIP_Geneva'"
   ]
  },
  {
   "cell_type": "code",
   "execution_count": 16,
   "metadata": {},
   "outputs": [],
   "source": [
    "image_names = []"
   ]
  },
  {
   "cell_type": "code",
   "execution_count": 17,
   "metadata": {},
   "outputs": [
    {
     "name": "stdout",
     "output_type": "stream",
     "text": [
      "546\n"
     ]
    }
   ],
   "source": [
    "for images in os.listdir(input_image_dir):\n",
    "    if images.endswith(\".tif\"):\n",
    "        image_names.append(images)\n",
    "print(len(image_names))"
   ]
  },
  {
   "cell_type": "code",
   "execution_count": 18,
   "metadata": {},
   "outputs": [
    {
     "data": {
      "text/plain": [
       "<Result 'D:\\\\USDA\\\\land_cover_mapping_deep_learning\\\\results\\\\NAIP_Geneva\\\\mosaic_simulated.tif'>"
      ]
     },
     "execution_count": 18,
     "metadata": {},
     "output_type": "execute_result"
    }
   ],
   "source": [
    "arcpy.management.CreateRasterDataset(input_image_dir, 'mosaic_simulated.tif',\n",
    "    cellsize = 1.0, pixel_type = '8_BIT_UNSIGNED',\n",
    "    raster_spatial_reference = arcpy.SpatialReference(26916), number_of_bands = 1)"
   ]
  },
  {
   "cell_type": "code",
   "execution_count": 19,
   "metadata": {},
   "outputs": [
    {
     "data": {
      "text/plain": [
       "<Result 'mosaic_simulated.tif'>"
      ]
     },
     "execution_count": 19,
     "metadata": {},
     "output_type": "execute_result"
    }
   ],
   "source": [
    "arcpy.management.Mosaic(\";\".join(image_names), 'mosaic_simulated.tif', nodata_value = 255)"
   ]
  }
 ],
 "metadata": {
  "kernelspec": {
   "display_name": "Python (geoai_dl)",
   "language": "python",
   "name": "geoai_dl"
  },
  "language_info": {
   "codemirror_mode": {
    "name": "ipython",
    "version": 3
   },
   "file_extension": ".py",
   "mimetype": "text/x-python",
   "name": "python",
   "nbconvert_exporter": "python",
   "pygments_lexer": "ipython3",
   "version": "3.6.8"
  }
 },
 "nbformat": 4,
 "nbformat_minor": 2
}
