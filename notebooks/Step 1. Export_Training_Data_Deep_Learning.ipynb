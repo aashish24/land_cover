{
 "cells": [
  {
   "cell_type": "markdown",
   "metadata": {},
   "source": [
    "## Import Library"
   ]
  },
  {
   "cell_type": "code",
   "execution_count": 1,
   "metadata": {},
   "outputs": [],
   "source": [
    "import arcpy\n",
    "from arcpy.ia import *\n",
    "\n",
    "import os\n",
    "import glob\n",
    "import tqdm\n",
    "import shutil\n",
    "import sys\n",
    "\n",
    "from multiprocessing import Pool, freeze_support\n",
    "import matplotlib.pyplot as plt\n",
    "import matplotlib.image as mpimg\n",
    "from PIL import Image"
   ]
  },
  {
   "cell_type": "markdown",
   "metadata": {},
   "source": [
    "## Import Path"
   ]
  },
  {
   "cell_type": "code",
   "execution_count": 2,
   "metadata": {},
   "outputs": [
    {
     "name": "stdout",
     "output_type": "stream",
     "text": [
      "D:\\land_cover\\data\\raw\\image\n",
      "D:\\land_cover\\data\\label\\labels.tif\n",
      "D:\\land_cover\\data\\interim\n"
     ]
    }
   ],
   "source": [
    "in_path  = r'D:\\land_cover\\data\\raw\\image'\n",
    "print(in_path)\n",
    "\n",
    "in_class = r'D:\\land_cover\\data\\label\\labels.tif'\n",
    "print(in_class)\n",
    "\n",
    "out_path = r'D:\\land_cover\\data\\interim'\n",
    "print(out_path)\n",
    "\n",
    "image_names  = []\n",
    "path_images  = []"
   ]
  },
  {
   "cell_type": "markdown",
   "metadata": {},
   "source": [
    "## Get List of Images"
   ]
  },
  {
   "cell_type": "code",
   "execution_count": 3,
   "metadata": {},
   "outputs": [
    {
     "name": "stdout",
     "output_type": "stream",
     "text": [
      "['m_3008718_ne_16_1_20171024.tif', 'm_3008718_nw_16_1_20171024.tif', 'm_3008718_se_16_1_20171024.tif', 'm_3008718_sw_16_1_20171024.tif', 'm_3408601_ne_16_1_20170711.tif', 'm_3408601_nw_16_1_20170711.tif', 'm_3408601_se_16_1_20170711.tif', 'm_3408601_sw_16_1_20170711.tif', 'm_3408602_ne_16_1_20170711.tif', 'm_3408602_nw_16_1_20170711.tif', 'm_3408602_se_16_1_20170711.tif', 'm_3408602_sw_16_1_20170711.tif']\n"
     ]
    }
   ],
   "source": [
    "for images in os.listdir(in_path):\n",
    "    if images.endswith(\".tif\"):\n",
    "        image_names.append(images)\n",
    "print(image_names)"
   ]
  },
  {
   "cell_type": "markdown",
   "metadata": {},
   "source": [
    "## Get Path of Images"
   ]
  },
  {
   "cell_type": "code",
   "execution_count": 4,
   "metadata": {},
   "outputs": [
    {
     "name": "stdout",
     "output_type": "stream",
     "text": [
      "['D:\\\\land_cover\\\\data\\\\raw\\\\image\\\\m_3008718_ne_16_1_20171024.tif', 'D:\\\\land_cover\\\\data\\\\raw\\\\image\\\\m_3008718_nw_16_1_20171024.tif', 'D:\\\\land_cover\\\\data\\\\raw\\\\image\\\\m_3008718_se_16_1_20171024.tif', 'D:\\\\land_cover\\\\data\\\\raw\\\\image\\\\m_3008718_sw_16_1_20171024.tif', 'D:\\\\land_cover\\\\data\\\\raw\\\\image\\\\m_3408601_ne_16_1_20170711.tif', 'D:\\\\land_cover\\\\data\\\\raw\\\\image\\\\m_3408601_nw_16_1_20170711.tif', 'D:\\\\land_cover\\\\data\\\\raw\\\\image\\\\m_3408601_se_16_1_20170711.tif', 'D:\\\\land_cover\\\\data\\\\raw\\\\image\\\\m_3408601_sw_16_1_20170711.tif', 'D:\\\\land_cover\\\\data\\\\raw\\\\image\\\\m_3408602_ne_16_1_20170711.tif', 'D:\\\\land_cover\\\\data\\\\raw\\\\image\\\\m_3408602_nw_16_1_20170711.tif', 'D:\\\\land_cover\\\\data\\\\raw\\\\image\\\\m_3408602_se_16_1_20170711.tif', 'D:\\\\land_cover\\\\data\\\\raw\\\\image\\\\m_3408602_sw_16_1_20170711.tif']\n"
     ]
    }
   ],
   "source": [
    "for images in os.listdir(in_path):\n",
    "    if images.endswith(\".tif\"):\n",
    "        path_images.append(os.path.join(in_path, images))\n",
    "print(path_images)"
   ]
  },
  {
   "cell_type": "code",
   "execution_count": 5,
   "metadata": {},
   "outputs": [],
   "source": [
    "def process_image(images, out_path, in_class):\n",
    "    arcpy.sa.ExportTrainingDataForDeepLearning(images, out_path, in_class, image_chip_format = \"TIFF\", \n",
    "                                               tile_size_x = \"256\", tile_size_y = \"256\", \n",
    "                                               stride_x = \"64\", stride_y = \"64\", \n",
    "                                               output_nofeature_tiles = 'ONLY_TILES_WITH_FEATURES', \n",
    "                                               metadata_format = 'Classified_Tiles')"
   ]
  },
  {
   "cell_type": "code",
   "execution_count": 6,
   "metadata": {
    "scrolled": true
   },
   "outputs": [],
   "source": [
    "for images in image_names:\n",
    "    process_image(os.path.join(in_path, images), os.path.join(out_path, images[:-4]), in_class)"
   ]
  }
 ],
 "metadata": {
  "kernelspec": {
   "display_name": "Python (geoai_dl)",
   "language": "python",
   "name": "geoai_dl"
  },
  "language_info": {
   "codemirror_mode": {
    "name": "ipython",
    "version": 3
   },
   "file_extension": ".py",
   "mimetype": "text/x-python",
   "name": "python",
   "nbconvert_exporter": "python",
   "pygments_lexer": "ipython3",
   "version": "3.6.8"
  }
 },
 "nbformat": 4,
 "nbformat_minor": 2
}
